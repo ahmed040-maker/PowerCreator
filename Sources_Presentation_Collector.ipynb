{
 "cells": [
  {
   "cell_type": "code",
   "execution_count": 39,
   "id": "6983c71e-bc6d-4dc8-afbf-d2bdd093f36d",
   "metadata": {},
   "outputs": [],
   "source": [
    "# imports\n",
    "\n",
    "import os\n",
    "import requests\n",
    "from dotenv import load_dotenv\n",
    "from bs4 import BeautifulSoup\n",
    "from IPython.display import Markdown, display\n",
    "from openai import OpenAI\n",
    "\n",
    "from youtube_transcript_api import YouTubeTranscriptApi\n",
    "from youtube_transcript_api._errors import TranscriptsDisabled, NoTranscriptFound\n",
    "import re\n",
    "\n",
    "from urllib.parse import urlparse, parse_qs\n",
    "\n",
    "from pptx import Presentation\n",
    "import json\n",
    "import pyautogui\n",
    "import time\n",
    "import pygetwindow as gw\n",
    "import random\n",
    "\n",
    "import ipywidgets as widgets\n"
   ]
  },
  {
   "cell_type": "code",
   "execution_count": 40,
   "id": "4610e3ad-d7da-4a90-acbc-0f851cbc8707",
   "metadata": {},
   "outputs": [],
   "source": [
    "#Configs: \n",
    "# I put values here earlier for testing but values can be added with gui, later will put configs file for permanent storage\n",
    "EnvAPIKey = 'OPENAI_API_KEY'\n",
    "baseURL = 'https://api.deepseek.com'\n",
    "LLMmodel = 'deepseek-chat'\n",
    "LanguageCode = 'en'\n",
    "ModelWindowSize = 128000\n"
   ]
  },
  {
   "cell_type": "code",
   "execution_count": 41,
   "id": "d63dfa95-2aae-433c-81c6-07f425c28ed2",
   "metadata": {},
   "outputs": [],
   "source": [
    "# user inputs\n",
    "PresentationName = \"\"\n",
    "DestinationDirectory = \"\"\n",
    "\n",
    "urlist = []\n",
    "PreferedSlideCount = \"\"\n",
    "UserSourceNotes = \"\"\n",
    "\n",
    "UserInstructions = \"\""
   ]
  },
  {
   "cell_type": "code",
   "execution_count": 42,
   "id": "347b58bb-edd2-4cdd-8b84-e139277ff239",
   "metadata": {},
   "outputs": [
    {
     "data": {
      "application/vnd.jupyter.widget-view+json": {
       "model_id": "1753a73b51ba48e19d04bec41c169d82",
       "version_major": 2,
       "version_minor": 0
      },
      "text/plain": [
       "HTML(value='<h3>🔗 Links</h3>')"
      ]
     },
     "metadata": {},
     "output_type": "display_data"
    },
    {
     "data": {
      "application/vnd.jupyter.widget-view+json": {
       "model_id": "6fa7752e721e492499c42837f51125b7",
       "version_major": 2,
       "version_minor": 0
      },
      "text/plain": [
       "HBox(children=(Text(value='', description='Add Link:'), Button(description='➕', style=ButtonStyle())))"
      ]
     },
     "metadata": {},
     "output_type": "display_data"
    },
    {
     "data": {
      "application/vnd.jupyter.widget-view+json": {
       "model_id": "aa666f2bcfc243dbba76eef45a75260e",
       "version_major": 2,
       "version_minor": 0
      },
      "text/plain": [
       "Select(description='Links:', options=(), rows=6, value=None)"
      ]
     },
     "metadata": {},
     "output_type": "display_data"
    },
    {
     "data": {
      "application/vnd.jupyter.widget-view+json": {
       "model_id": "edca81808ce54065986f037b67733605",
       "version_major": 2,
       "version_minor": 0
      },
      "text/plain": [
       "HTML(value='<h3>📝 Text Inputs</h3>')"
      ]
     },
     "metadata": {},
     "output_type": "display_data"
    },
    {
     "data": {
      "application/vnd.jupyter.widget-view+json": {
       "model_id": "6dce7be053024fc09f0df527970989e9",
       "version_major": 2,
       "version_minor": 0
      },
      "text/plain": [
       "Text(value='', description='Title:')"
      ]
     },
     "metadata": {},
     "output_type": "display_data"
    },
    {
     "data": {
      "application/vnd.jupyter.widget-view+json": {
       "model_id": "a91cd9cd67514f0ab72cb8e687b55c41",
       "version_major": 2,
       "version_minor": 0
      },
      "text/plain": [
       "Text(value='', description='Dest Dir:')"
      ]
     },
     "metadata": {},
     "output_type": "display_data"
    },
    {
     "data": {
      "application/vnd.jupyter.widget-view+json": {
       "model_id": "debea1cf720b46ca9c40e6239665e0e3",
       "version_major": 2,
       "version_minor": 0
      },
      "text/plain": [
       "Text(value='', description='Slides:')"
      ]
     },
     "metadata": {},
     "output_type": "display_data"
    },
    {
     "data": {
      "application/vnd.jupyter.widget-view+json": {
       "model_id": "5be7bdd950444c139dd159ef2aa2972c",
       "version_major": 2,
       "version_minor": 0
      },
      "text/plain": [
       "HTML(value='<h3>🧠 Language & Model</h3>')"
      ]
     },
     "metadata": {},
     "output_type": "display_data"
    },
    {
     "data": {
      "application/vnd.jupyter.widget-view+json": {
       "model_id": "190fd17612bd4fc3a0efa09e19a6a6b7",
       "version_major": 2,
       "version_minor": 0
      },
      "text/plain": [
       "Text(value='en', description='Lang:')"
      ]
     },
     "metadata": {},
     "output_type": "display_data"
    },
    {
     "data": {
      "application/vnd.jupyter.widget-view+json": {
       "model_id": "d3e7c876cb2e4cb488bb0c499054ac33",
       "version_major": 2,
       "version_minor": 0
      },
      "text/plain": [
       "Text(value='deepseek-chat', description='Model:')"
      ]
     },
     "metadata": {},
     "output_type": "display_data"
    },
    {
     "data": {
      "application/vnd.jupyter.widget-view+json": {
       "model_id": "e5f4b5e670894176b6926ced89618696",
       "version_major": 2,
       "version_minor": 0
      },
      "text/plain": [
       "Text(value='OPENAI_API_KEY', description='API Key:')"
      ]
     },
     "metadata": {},
     "output_type": "display_data"
    },
    {
     "data": {
      "application/vnd.jupyter.widget-view+json": {
       "model_id": "7677ee8ae8cf48a19ba568faefbd07b2",
       "version_major": 2,
       "version_minor": 0
      },
      "text/plain": [
       "Text(value='https://api.deepseek.com', description='Base URL:')"
      ]
     },
     "metadata": {},
     "output_type": "display_data"
    },
    {
     "data": {
      "application/vnd.jupyter.widget-view+json": {
       "model_id": "30fe99f663104c7481ea58afcab8a7b0",
       "version_major": 2,
       "version_minor": 0
      },
      "text/plain": [
       "IntText(value=128000, description='Window Size:')"
      ]
     },
     "metadata": {},
     "output_type": "display_data"
    },
    {
     "data": {
      "application/vnd.jupyter.widget-view+json": {
       "model_id": "bf3f03dffdce40148865f1c8337f9bce",
       "version_major": 2,
       "version_minor": 0
      },
      "text/plain": [
       "HTML(value='<h3>🗒️ Notes & Instructions</h3>')"
      ]
     },
     "metadata": {},
     "output_type": "display_data"
    },
    {
     "data": {
      "application/vnd.jupyter.widget-view+json": {
       "model_id": "1e3e1381be7a4f9ea9fe92ce752754fb",
       "version_major": 2,
       "version_minor": 0
      },
      "text/plain": [
       "Textarea(value='', description='Notes:', layout=Layout(height='100px', width='95%'))"
      ]
     },
     "metadata": {},
     "output_type": "display_data"
    },
    {
     "data": {
      "application/vnd.jupyter.widget-view+json": {
       "model_id": "2eb20d04511f48279f255aca44acb4a3",
       "version_major": 2,
       "version_minor": 0
      },
      "text/plain": [
       "Textarea(value='', description='Instructions:', layout=Layout(height='120px', width='95%'))"
      ]
     },
     "metadata": {},
     "output_type": "display_data"
    },
    {
     "data": {
      "application/vnd.jupyter.widget-view+json": {
       "model_id": "c30d9c80705d412982bf770e94c3f25c",
       "version_major": 2,
       "version_minor": 0
      },
      "text/plain": [
       "Button(button_style='success', description='✅ Apply Changes', style=ButtonStyle())"
      ]
     },
     "metadata": {},
     "output_type": "display_data"
    },
    {
     "data": {
      "application/vnd.jupyter.widget-view+json": {
       "model_id": "e51efd2823034916b63b03bf99a6b5ce",
       "version_major": 2,
       "version_minor": 0
      },
      "text/plain": [
       "Output()"
      ]
     },
     "metadata": {},
     "output_type": "display_data"
    }
   ],
   "source": [
    "# -------------- WIDGETS ---------------\n",
    "\n",
    "# Text inputs\n",
    "presentation_name_widget = widgets.Text(value=PresentationName, description=\"Title:\")\n",
    "destination_widget = widgets.Text(value=DestinationDirectory, description=\"Dest Dir:\")\n",
    "slide_count_widget = widgets.Text(value=PreferedSlideCount, description=\"Slides:\")\n",
    "language_widget = widgets.Text(value=LanguageCode, description=\"Lang:\")\n",
    "model_widget = widgets.Text(value=LLMmodel, description=\"Model:\")\n",
    "apikey_widget = widgets.Text(value=EnvAPIKey, description=\"API Key:\")\n",
    "baseurl_widget = widgets.Text(value=baseURL, description=\"Base URL:\")\n",
    "model_window_widget = widgets.IntText(value=ModelWindowSize, description=\"Window Size:\")\n",
    "\n",
    "# Multi-line text areas\n",
    "source_notes_widget = widgets.Textarea(value=UserSourceNotes.strip(), description=\"Notes:\", layout=widgets.Layout(width='95%', height='100px'))\n",
    "instructions_widget = widgets.Textarea(value=UserInstructions.strip(), description=\"Instructions:\", layout=widgets.Layout(width='95%', height='120px'))\n",
    "\n",
    "# Link input and list\n",
    "link_input = widgets.Text(description=\"Add Link:\")\n",
    "add_link_button = widgets.Button(description=\"➕\")\n",
    "link_list = widgets.Select(options=urlist, rows=6, description=\"Links:\")\n",
    "\n",
    "# Save changes output box\n",
    "output = widgets.Output()\n",
    "\n",
    "# -------------- HANDLERS ----------------\n",
    "\n",
    "def add_link(b):\n",
    "    if link_input.value.strip():\n",
    "        urlist.append(link_input.value.strip())\n",
    "        link_list.options = urlist\n",
    "        link_input.value = \"\"\n",
    "\n",
    "add_link_button.on_click(add_link)\n",
    "\n",
    "def apply_changes(b):\n",
    "    global PresentationName, DestinationDirectory, PreferedSlideCount\n",
    "    global UserSourceNotes, UserInstructions\n",
    "    global LanguageCode, LLMmodel, EnvAPIKey, baseURL, ModelWindowSize\n",
    "\n",
    "    PresentationName = presentation_name_widget.value\n",
    "    DestinationDirectory = destination_widget.value\n",
    "    PreferedSlideCount = slide_count_widget.value\n",
    "    UserSourceNotes = source_notes_widget.value\n",
    "    UserInstructions = instructions_widget.value\n",
    "    LanguageCode = language_widget.value\n",
    "    LLMmodel = model_widget.value\n",
    "    EnvAPIKey = apikey_widget.value\n",
    "    baseURL = baseurl_widget.value\n",
    "    ModelWindowSize = model_window_widget.value\n",
    "\n",
    "    with output:\n",
    "        #clear_output()\n",
    "        print(\"✅ All values updated!\")\n",
    "\n",
    "# Button to apply changes\n",
    "apply_button = widgets.Button(description=\"✅ Apply Changes\", button_style='success')\n",
    "apply_button.on_click(apply_changes)\n",
    "\n",
    "# -------------- DISPLAY UI ----------------\n",
    "\n",
    "display(widgets.HTML(\"<h3>🔗 Links</h3>\"))\n",
    "display(widgets.HBox([link_input, add_link_button]))\n",
    "display(link_list)\n",
    "\n",
    "display(widgets.HTML(\"<h3>📝 Text Inputs</h3>\"))\n",
    "display(presentation_name_widget, destination_widget, slide_count_widget)\n",
    "\n",
    "display(widgets.HTML(\"<h3>🧠 Language & Model</h3>\"))\n",
    "display(language_widget, model_widget, apikey_widget, baseurl_widget, model_window_widget)\n",
    "\n",
    "display(widgets.HTML(\"<h3>🗒️ Notes & Instructions</h3>\"))\n",
    "display(source_notes_widget)\n",
    "display(instructions_widget)\n",
    "\n",
    "display(apply_button)\n",
    "display(output)\n"
   ]
  },
  {
   "cell_type": "code",
   "execution_count": 43,
   "id": "05360d42-f940-4e36-bedf-6021ae1a853c",
   "metadata": {},
   "outputs": [],
   "source": [
    "DestinationDirectory = DestinationDirectory + \"/\" + PresentationName + \".pptx\"\n",
    "WORD_LIMIT = (ModelWindowSize * 3)/16\n",
    "CHAR_LIMIT = ModelWindowSize\n"
   ]
  },
  {
   "cell_type": "code",
   "execution_count": 44,
   "id": "90bb55ce-24f8-417a-a74f-453a61ff2512",
   "metadata": {},
   "outputs": [],
   "source": [
    "# Load environment variables in a file called .env\n",
    "api_key = EnvAPIKey\n",
    "if EnvAPIKey == 'OPENAI_API_KEY':\n",
    "    load_dotenv(override=True)\n",
    "    api_key = os.getenv('OPENAI_API_KEY')\n",
    "    if api_key == EnvAPIKey:\n",
    "        print(api_key)\n",
    "else:\n",
    "    print('fail')\n",
    "openai = OpenAI()\n",
    "openai = OpenAI(base_url=baseURL, api_key=api_key)\n",
    "\n"
   ]
  },
  {
   "cell_type": "code",
   "execution_count": 45,
   "id": "975b374f-51c5-4a28-bb03-1d8dc2f86713",
   "metadata": {},
   "outputs": [],
   "source": [
    "# Methods for Videos Path\n",
    "\n",
    "def extract_video_id(url):\n",
    "    parsed_url = urlparse(url)\n",
    "\n",
    "    # Case 1: Standard YouTube URL (https://www.youtube.com/watch?v=VIDEO_ID)\n",
    "    if parsed_url.hostname in ['www.youtube.com', 'youtube.com']:\n",
    "        query_params = parse_qs(parsed_url.query)\n",
    "        return query_params.get('v', [None])[0]\n",
    "\n",
    "    # Case 2: Shortened YouTube URL (https://youtu.be/VIDEO_ID)\n",
    "    elif parsed_url.hostname in ['youtu.be']:\n",
    "        return parsed_url.path.lstrip('/')\n",
    "\n",
    "    return None  # If no video ID is found\n",
    "\n",
    "\n",
    "\n",
    "\n",
    "def fetch_transcript(video_id):\n",
    "    try:\n",
    "        # Try to get English transcript first\n",
    "        transcript = YouTubeTranscriptApi.get_transcript(video_id, languages=[LanguageCode])\n",
    "    except NoTranscriptFound:\n",
    "        try:\n",
    "            languagecode = ''\n",
    "            ytt_api = YouTubeTranscriptApi()\n",
    "            transcript_list = ytt_api.list_transcripts(video_id)\n",
    "            for item in transcript_list:\n",
    "                if item.language_code:\n",
    "                    languagecode = item.language_code\n",
    "                    break\n",
    "            for trans in transcript_list:\n",
    "                if LanguageCode in trans.translation_languages and trans.is_translatable:\n",
    "                    try:\n",
    "                        transcript = transcript_list.find_manually_created_transcript([languagecode])\n",
    "                    except NoTranscriptFound:\n",
    "                        transcript = transcript_list.find_generated_transcript([languagecode])\n",
    "                    \n",
    "                    translated_transcript = transcript.translate(LanguageCode).fetch()\n",
    "                    \n",
    "                    for entry in translated_transcript:\n",
    "                        transcript_text += \" \" +entry.text\n",
    "                    return transcript_text\n",
    "                    \n",
    "            # If English isn't available, get the default transcript in any available language\n",
    "            if languagecode != '':\n",
    "                transcript = YouTubeTranscriptApi.get_transcript(video_id, languages=[languagecode])\n",
    "                transcript_text = \"***#Language is \"+ languagecode + \" #*** and here is the transcript: \"\n",
    "            else:\n",
    "                return None\n",
    "        except (NoTranscriptFound, TranscriptsDisabled):\n",
    "            print(\"No transcript found.\")\n",
    "            return None\n",
    "    \n",
    "    # Combine all transcript text into a single string\n",
    "    transcript_text = \" \".join([entry['text'] for entry in transcript])\n",
    "    return transcript_text"
   ]
  },
  {
   "cell_type": "code",
   "execution_count": 46,
   "id": "139b7780-4bcc-4ff4-9bf1-777fc35c118a",
   "metadata": {},
   "outputs": [],
   "source": [
    "# Website Path Classes\n",
    "\n",
    "# Some websites need you to use proper headers when fetching them:\n",
    "headers = {\n",
    " \"User-Agent\": \"Mozilla/5.0 (Windows NT 10.0; Win64; x64) AppleWebKit/537.36 (KHTML, like Gecko) Chrome/117.0.0.0 Safari/537.36\"\n",
    "}\n",
    "\n",
    "class Website:\n",
    "\n",
    "    def __init__(self, url):\n",
    "        \"\"\"\n",
    "        Create this Website object from the given url using the BeautifulSoup library\n",
    "        \"\"\"\n",
    "        self.url = url\n",
    "        response = requests.get(url, headers=headers)\n",
    "        soup = BeautifulSoup(response.content, 'html.parser')\n",
    "        self.title = soup.title.string if soup.title else \"No title found\"\n",
    "        for irrelevant in soup.body([\"script\", \"style\", \"img\", \"input\"]):\n",
    "            irrelevant.decompose()\n",
    "        self.text = soup.body.get_text(separator=\"\\n\", strip=True)"
   ]
  },
  {
   "cell_type": "code",
   "execution_count": 47,
   "id": "37f273ca-4c6f-46ee-8fc0-ae8c6c467693",
   "metadata": {},
   "outputs": [],
   "source": [
    "# Prompts to slides of title and bullet points for each discussed idea in the transcript \n",
    "\n",
    "def user_prompt_for_final(transcript_text):\n",
    "    return transcript_text\n",
    "\n",
    "def user_prompt_for_outline(transcript_text):\n",
    "    user_prompt = f\"You are looking at content from multiple sources\"\n",
    "    user_prompt += \"\\nPlease summarize and provide the outline for this, return this in outline format.  \\n\\n\"\n",
    "    user_prompt += transcript_text\n",
    "    return user_prompt\n",
    "\n",
    "system_prompt_outline = f\"\"\"\n",
    "You are an AI assistant that summarizes and organizes long text into a high-level outline.  \n",
    "\n",
    "### **Instructions:**\n",
    "1. Analyze the given text and extract key topics.\n",
    "2. Summarize each topic in a few bullet points.\n",
    "3. Ensure that no duplicate ideas are included.\n",
    "\n",
    "### **Output Format:**\n",
    "{{\n",
    "    \"outline\": [\n",
    "        {{\n",
    "            \"topic\": \"Main Topic\",\n",
    "            \"summary\": [\n",
    "                \"Key Point 1\",\n",
    "                \"Key Point 2\"\n",
    "            ]\n",
    "        }}\n",
    "    ]\n",
    "}}\n",
    "\"\"\"\n",
    "\n",
    "\n",
    "\n",
    "system_prompt_final = \"\"\"\n",
    "You are an AI assistant that processes text from multiple sources (video transcripts, scraped websites).  \n",
    "Each source discusses the same topic but may provide unique insights or perspectives.  \n",
    "\n",
    "### **Your Tasks:**\n",
    "1. Translate all content into \"\"\" + LanguageCode+\"\"\" if necessary.\n",
    "2. Ignore text that might be navigation related\n",
    "3. **Identify and remove redundant or repeated ideas.**\n",
    "4. Compare information across sources and **retain only unique contributions, new facts, or alternative viewpoints.**\n",
    "5. Organize the refined content into a structured PowerPoint outline.\n",
    "\n",
    "You may receive an optional user instruction input that provides:\n",
    "1. A preferred number of slides (as a single number or a range).\n",
    "2. A suggested structure or flow for the presentation (e.g., agenda → introduction → key points → conclusion).\n",
    "\n",
    "When such instructions are provided:\n",
    "- Follow the suggested flow strictly unless it's clearly infeasible based on the source material.\n",
    "- Ensure that the total number of slides is as close as possible to the requested number or within the provided range.\n",
    "- Use the structure to group the main ideas logically. You may combine or reorganize the source content to fit this flow.\n",
    "\n",
    "If no instruction is given, you may choose the most logical structure based on the content.\n",
    "\n",
    "### **Output Format:**\n",
    "Respond with a JSON object structured as follows:\n",
    "{\n",
    "    \"slides\": [\n",
    "        {\n",
    "            \"title\": \"Slide Title\",\n",
    "            \"points\": [\n",
    "                {\n",
    "                    \"text\": \"Main Point\",\n",
    "                    \"subpoints\": [\"Subpoint 1\", \"Subpoint 2\"]\n",
    "                }\n",
    "            ]\n",
    "        }\n",
    "    ]\n",
    "}\n",
    "\n",
    "- **Do NOT include repetitive points from different sources.**\n",
    "- **Only keep unique insights or perspectives.**\n",
    "- **Summarize each unique idea clearly before structuring slides.**\n",
    "\"\"\"\n",
    "\n",
    "\n",
    "def messages_for(transcript_text, state):\n",
    "    if state == 'outline':\n",
    "        return [\n",
    "            {\"role\": \"system\", \"content\": system_prompt_outline},\n",
    "            {\"role\": \"user\", \"content\": user_prompt_for_outline(transcript_text)}\n",
    "        ]\n",
    "    if state == 'final':\n",
    "        return [\n",
    "            {\"role\": \"system\", \"content\": system_prompt_final},\n",
    "            {\"role\": \"user\", \"content\": user_prompt_for_final(transcript_text)}\n",
    "        ]\n",
    "\n",
    "def get_LLM_response(transcript_text, state):\n",
    "    response = openai.chat.completions.create(\n",
    "            model = LLMmodel,\n",
    "            messages = messages_for(transcript_text, state)\n",
    "    )\n",
    "    return response.choices[0].message.content"
   ]
  },
  {
   "cell_type": "code",
   "execution_count": 48,
   "id": "1ef09ad7-ab02-4ea4-ace9-08eae46e94d4",
   "metadata": {},
   "outputs": [],
   "source": [
    "def GetTextFromURL(url):\n",
    "    video_id = extract_video_id(url)\n",
    "    if video_id is None:\n",
    "        transcript_text = Website(url).text\n",
    "    else:\n",
    "        transcript_text = fetch_transcript(video_id)\n",
    "    if(transcript_text):\n",
    "        return transcript_text\n",
    "    else:\n",
    "        return None\n",
    "\n",
    "def GetTranscriptsFromUrls(urlList):\n",
    "    Transcripts = []\n",
    "    for url in urlList:\n",
    "        Transcripts.append(GetTextFromURL(url))\n",
    "    return Transcripts"
   ]
  },
  {
   "cell_type": "code",
   "execution_count": 49,
   "id": "bfa77328-2bb2-47a6-9d17-03c30da6daf1",
   "metadata": {},
   "outputs": [],
   "source": [
    "def count_words(text):\n",
    "    return len(text.split())\n",
    "\n",
    "def chunk_text(transcripts):\n",
    "    \"\"\"Split text into chunks based on word and character limits.\"\"\"\n",
    "    chunks = []\n",
    "    current_chunk = \"\"\n",
    "    current_word_count = 0\n",
    "    current_char_count = 0\n",
    "\n",
    "    for transcript in transcripts:\n",
    "        transcript_word_count = count_words(transcript)\n",
    "        transcript_char_count = len(transcript)\n",
    "\n",
    "        # Check if adding this transcript would exceed limits\n",
    "        if (transcript_word_count > WORD_LIMIT or transcript_char_count > CHAR_LIMIT):\n",
    "            chunks.append(transcript)\n",
    "            current_chunk = \"\"\n",
    "            current_word_count = 0\n",
    "            current_char_count = 0\n",
    "        elif (current_word_count + transcript_word_count > WORD_LIMIT or \n",
    "            current_char_count + transcript_char_count > CHAR_LIMIT):\n",
    "            # Start a new chunk\n",
    "            chunks.append(current_chunk.strip())\n",
    "            current_chunk = \"\"\n",
    "            current_word_count = 0\n",
    "            current_char_count = 0\n",
    "        else:\n",
    "            # Append to current chunk\n",
    "            current_chunk += \" \" + transcript\n",
    "            current_word_count += transcript_word_count\n",
    "            current_char_count += transcript_char_count\n",
    "\n",
    "    # Append the last chunk\n",
    "    if current_chunk:\n",
    "        chunks.append(current_chunk.strip())\n",
    "\n",
    "    return chunks\n",
    "\n",
    "\"\"\"Recursively reduce multiple chunks into a single outline.\"\"\"\n",
    "def iterative_outline(chunks):\n",
    "    count = 0\n",
    "    res = chunk_text(chunks)\n",
    "    if len(res) == 1:\n",
    "        state = 'final'\n",
    "        return res[0]\n",
    "    else:\n",
    "        state = 'outline'\n",
    "    while state == 'outline':\n",
    "        print(count)\n",
    "        count = count + 1\n",
    "        NewTranscripts = []\n",
    "        for chunk in res:\n",
    "            NewTranscripts.append(get_LLM_response(chunk, state))\n",
    "            print(NewTranscripts[-1])\n",
    "        res = chunk_text(NewTranscripts)\n",
    "        if len(res) == 1:\n",
    "            state = 'final'\n",
    "\n",
    "    return res[0]\n",
    "            \n",
    "        "
   ]
  },
  {
   "cell_type": "code",
   "execution_count": 50,
   "id": "3d53edb6-cda5-41d8-b8b9-f6835f0c6c1d",
   "metadata": {},
   "outputs": [],
   "source": [
    "def GetProperJsonstring(jsonslides):\n",
    "    start = jsonslides.find('{')\n",
    "    end = jsonslides.rfind('}')\n",
    "    if start != -1 and end != -1:\n",
    "        properJsonString = jsonslides[start:end+1]\n",
    "    return properJsonString"
   ]
  },
  {
   "cell_type": "code",
   "execution_count": 51,
   "id": "c5689d91-675f-41fd-a0e6-1f1a468e3468",
   "metadata": {},
   "outputs": [],
   "source": [
    "# Function to add slides with points and subpoints\n",
    "def add_slide(prs, title, points):\n",
    "    slide_layout = prs.slide_layouts[1]  # Title and Content layout\n",
    "    slide = prs.slides.add_slide(slide_layout)\n",
    "\n",
    "    # Set title\n",
    "    slide.shapes.title.text = title\n",
    "\n",
    "    # Set bullet points\n",
    "    content = slide.placeholders[1].text_frame\n",
    "    for point in points:\n",
    "        p = content.add_paragraph()\n",
    "        p.text = point[\"text\"]\n",
    "\n",
    "        # Add subpoints (indented)\n",
    "        for sub in point.get(\"subpoints\", []):\n",
    "            sub_p = content.add_paragraph()\n",
    "            sub_p.text = sub\n",
    "            sub_p.level = 1  # Indent subpoints\n",
    "\n",
    "\n"
   ]
  },
  {
   "cell_type": "code",
   "execution_count": 52,
   "id": "78d2cc04-a434-4d14-ab72-5a0dc6e247c6",
   "metadata": {},
   "outputs": [],
   "source": [
    "if PreferedSlideCount:\n",
    "    UserInstructions += f\"\\nPlease aim for {PreferedSlideCount} slides.\"\n",
    "\n",
    "if UserSourceNotes:\n",
    "    UserInstructions = UserInstructions + \"\\n\\nUSER NOTES:\\n\" + \"Below is a summary or outline from the user. Treat it as an additional content source \" + \"to be merged with transcripts and scraped data:\\n\\n\" + f\"{UserSourceNotes}\\n\" + \"\\n---\\n\" + \"The following content comes from multiple sources. Please deduplicate, integrate, and generate slides accordingly.\\n\"\n",
    "else:\n",
    "    UserInstructions = UserInstructions + \"\\n\\nSOURCE INTEGRATION:\\n\" + \"You are looking at content from multiple sources. Please deduplicate, extract key ideas, and structure it into slides following the flow above.\\n\"\n",
    "\n"
   ]
  },
  {
   "cell_type": "code",
   "execution_count": 53,
   "id": "a6215ad3-a68e-4375-b7ed-94bdc83a73cd",
   "metadata": {},
   "outputs": [
    {
     "name": "stdout",
     "output_type": "stream",
     "text": [
      "Presentation created successfully!\n"
     ]
    }
   ],
   "source": [
    "Transcripts = GetTranscriptsFromUrls(urlist)\n",
    "sourceScript = iterative_outline(Transcripts)\n",
    "state = 'final'\n",
    "finalScript = UserInstructions + sourceScript\n",
    "jsonslides = get_LLM_response(finalScript, state)\n",
    "jstring = GetProperJsonstring(jsonslides)\n",
    "slides_content = json.loads(jstring)\n",
    "slidecount = len(slides_content[\"slides\"])\n",
    "\n",
    "# Create a PowerPoint presentation\n",
    "prs = Presentation()\n",
    "\n",
    "\n",
    "# Generate slides\n",
    "for slide_data in slides_content[\"slides\"]:\n",
    "    add_slide(prs, slide_data[\"title\"], slide_data[\"points\"])\n",
    "\n",
    "# Save the presentation\n",
    "prs.save(DestinationDirectory)\n",
    "print(\"Presentation created successfully!\")\n",
    "\n"
   ]
  },
  {
   "cell_type": "code",
   "execution_count": 54,
   "id": "6efb8baf-65a4-4bab-a5bf-76162552029f",
   "metadata": {},
   "outputs": [],
   "source": [
    "def apply_design():\n",
    "    \"\"\" Applies a random design to the current slide without reopening Designer \"\"\"\n",
    "    \n",
    "    # Step 1: Move to the first design (10 'Up' presses)\n",
    "    for _ in range(5):\n",
    "        pyautogui.press('up')\n",
    "        time.sleep(0.1)\n",
    "\n",
    "    # Step 2: Randomly select a design (0-9 Down presses)\n",
    "    num_down_presses = random.randint(0, 4)\n",
    "    for _ in range(num_down_presses):\n",
    "        pyautogui.press('down')\n",
    "        time.sleep(0.2)\n",
    "\n",
    "    # Step 3: Apply the selected design\n",
    "    pyautogui.press('enter')\n",
    "    time.sleep(1)\n",
    "    pyautogui.press('esc')\n",
    "    time.sleep(0.5)\n",
    "\n",
    "def process_all_slides(num_slides):\n",
    "    \"\"\" Iterates through all slides and applies a random design while keeping Designer open \"\"\"\n",
    "    \n",
    "    time.sleep(10)\n",
    "    # Open Designer once at the start\n",
    "    pyautogui.hotkey('alt', 'g', 'd')\n",
    "    time.sleep(5)\n",
    "\n",
    "    for slide in range(num_slides):\n",
    "        apply_design()\n",
    "\n",
    "        # Step 4: Move to the next slide and wait for designer\n",
    "        if slide < num_slides - 1:\n",
    "            pyautogui.press('down')\n",
    "            time.sleep(4)\n",
    "            # Step 5: go to designer\n",
    "            pyautogui.press('f6')\n",
    "            time.sleep(0.5)\n",
    "    \n",
    "    pyautogui.hotkey('ctrl', 's')\n",
    "    time.sleep(1)\n",
    "    pyautogui.hotkey('alt', 'f4')\n",
    "            \n",
    "\n",
    "\n"
   ]
  },
  {
   "cell_type": "code",
   "execution_count": 55,
   "id": "b440f68c-6743-4abe-b2b5-4a195c4b66e5",
   "metadata": {},
   "outputs": [],
   "source": [
    "process_all_slides(slidecount)"
   ]
  },
  {
   "cell_type": "code",
   "execution_count": null,
   "id": "8b40a9ce-a636-4d29-80dd-78c08f727b79",
   "metadata": {},
   "outputs": [],
   "source": []
  }
 ],
 "metadata": {
  "kernelspec": {
   "display_name": "Python 3 (ipykernel)",
   "language": "python",
   "name": "python3"
  },
  "language_info": {
   "codemirror_mode": {
    "name": "ipython",
    "version": 3
   },
   "file_extension": ".py",
   "mimetype": "text/x-python",
   "name": "python",
   "nbconvert_exporter": "python",
   "pygments_lexer": "ipython3",
   "version": "3.11.11"
  }
 },
 "nbformat": 4,
 "nbformat_minor": 5
}
